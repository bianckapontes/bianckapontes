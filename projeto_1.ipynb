{
  "nbformat": 4,
  "nbformat_minor": 0,
  "metadata": {
    "colab": {
      "provenance": []
    },
    "kernelspec": {
      "name": "python3",
      "display_name": "Python 3"
    },
    "language_info": {
      "name": "python"
    }
  },
  "cells": [
    {
      "cell_type": "markdown",
      "source": [
        "\n",
        "\n",
        "    Utilize o comando 'input' para receber ao menos 2 números de entrada do usuário;\n",
        "\n",
        "    Converta os valores recebidos pelo usuário para número inteiro (int) ou ponto flutuante (float);\n",
        "\n",
        "    Implemente ao menos 4 operações matemáticas em seu código;\n",
        "\n",
        "    Adicione um laço de repetição ou uma condicional. Por exemplo: você pode permitir que o usuário escolha qual operação realizar ou criar um loop que permita ao usuário realizar várias operações consecutivas;\n",
        "\n",
        "    Utilize o comando 'print' para exibir o resultado da operação matemática.\n"
      ],
      "metadata": {
        "id": "ywbeOm55Mu7b"
      }
    },
    {
      "cell_type": "code",
      "execution_count": 14,
      "metadata": {
        "colab": {
          "base_uri": "https://localhost:8080/"
        },
        "id": "tXT5lRENMleg",
        "outputId": "12dd0c04-63c5-4f49-e03e-b1075de1d175"
      },
      "outputs": [
        {
          "name": "stdout",
          "output_type": "stream",
          "text": [
            "bem-vindo à calculadora Python.\n",
            "utilize apenas números e quando desejar parar de calcular digite 'não' após o resultado.\n",
            "digite o primeiro valor:2\n",
            "digite o segundo valor:3\n",
            "escolha a operação utilizando +, -, * ou /: *\n",
            "2.0 * 3.0  =  6.0\n",
            "deseja continuar? não\n"
          ]
        }
      ],
      "source": [
        "print(\"bem-vindo à calculadora Python.\\nutilize apenas números e quando desejar parar de calcular digite 'não' após o resultado.\")\n",
        "sair=0\n",
        "while sair==0 or sair==\"sim\":\n",
        "  num1=input(\"digite o primeiro valor:\")\n",
        "  num1=float(num1)\n",
        "  num2=input(\"digite o segundo valor:\")\n",
        "  num2=float(num2)\n",
        "  op1=input(\"escolha a operação utilizando +, -, * ou /: \")\n",
        "  if op1==\"+\":\n",
        "    op2=num1+num2\n",
        "  if op1==\"-\":\n",
        "    op2=num1-num2\n",
        "  if op1==\"*\":\n",
        "    op2=num1*num2\n",
        "  if op1==\"/\":\n",
        "    op2=num1/num2\n",
        "  print(num1,op1,num2,\" = \",op2)\n",
        "  sair=input(\"deseja continuar? \")\n"
      ]
    }
  ]
}